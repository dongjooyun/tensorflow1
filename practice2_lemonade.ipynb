{
  "nbformat": 4,
  "nbformat_minor": 0,
  "metadata": {
    "colab": {
      "name": "practice2-lemonade.ipynb",
      "provenance": [],
      "collapsed_sections": [],
      "include_colab_link": true
    },
    "kernelspec": {
      "name": "python3",
      "display_name": "Python 3"
    }
  },
  "cells": [
    {
      "cell_type": "markdown",
      "metadata": {
        "id": "view-in-github",
        "colab_type": "text"
      },
      "source": [
        "<a href=\"https://colab.research.google.com/github/dongjooyun/tensorflow1/blob/master/practice2_lemonade.ipynb\" target=\"_parent\"><img src=\"https://colab.research.google.com/assets/colab-badge.svg\" alt=\"Open In Colab\"/></a>"
      ]
    },
    {
      "cell_type": "markdown",
      "metadata": {
        "id": "bniE7Q0Guveg",
        "colab_type": "text"
      },
      "source": [
        "# 레모네이드 판매 예측\n",
        "- github csv url: https://raw.githubusercontent.com/blackdew/tensorflow1/master/csv/lemonade.csv "
      ]
    },
    {
      "cell_type": "markdown",
      "metadata": {
        "id": "gpXYgPS3gQnu",
        "colab_type": "text"
      },
      "source": [
        "### 0. Tensorflow & Pandas 라이브러리 사용"
      ]
    },
    {
      "cell_type": "code",
      "metadata": {
        "id": "nEEBKLL6ZHZe",
        "colab_type": "code",
        "colab": {}
      },
      "source": [
        "import tensorflow as tf\n",
        "import pandas as pd"
      ],
      "execution_count": 1,
      "outputs": []
    },
    {
      "cell_type": "markdown",
      "metadata": {
        "id": "NkdFLtWeghoj",
        "colab_type": "text"
      },
      "source": [
        "### 1-1. 과거의(축적된) 데이터 준비"
      ]
    },
    {
      "cell_type": "code",
      "metadata": {
        "id": "0E37C29d3BDl",
        "colab_type": "code",
        "colab": {
          "base_uri": "https://localhost:8080/",
          "height": 202
        },
        "outputId": "a45a416b-5ca0-4929-c90a-d62902d0adcf"
      },
      "source": [
        "ln_fileroute = 'https://raw.githubusercontent.com/blackdew/tensorflow1/master/csv/lemonade.csv'\n",
        "lemonade = pd.read_csv(ln_fileroute)\n",
        "lemonade.head() # 경로에서 잘 가져왔나 check + 전반적인 내용 훑어보기"
      ],
      "execution_count": 2,
      "outputs": [
        {
          "output_type": "execute_result",
          "data": {
            "text/html": [
              "<div>\n",
              "<style scoped>\n",
              "    .dataframe tbody tr th:only-of-type {\n",
              "        vertical-align: middle;\n",
              "    }\n",
              "\n",
              "    .dataframe tbody tr th {\n",
              "        vertical-align: top;\n",
              "    }\n",
              "\n",
              "    .dataframe thead th {\n",
              "        text-align: right;\n",
              "    }\n",
              "</style>\n",
              "<table border=\"1\" class=\"dataframe\">\n",
              "  <thead>\n",
              "    <tr style=\"text-align: right;\">\n",
              "      <th></th>\n",
              "      <th>온도</th>\n",
              "      <th>판매량</th>\n",
              "    </tr>\n",
              "  </thead>\n",
              "  <tbody>\n",
              "    <tr>\n",
              "      <th>0</th>\n",
              "      <td>20</td>\n",
              "      <td>40</td>\n",
              "    </tr>\n",
              "    <tr>\n",
              "      <th>1</th>\n",
              "      <td>21</td>\n",
              "      <td>42</td>\n",
              "    </tr>\n",
              "    <tr>\n",
              "      <th>2</th>\n",
              "      <td>22</td>\n",
              "      <td>44</td>\n",
              "    </tr>\n",
              "    <tr>\n",
              "      <th>3</th>\n",
              "      <td>23</td>\n",
              "      <td>46</td>\n",
              "    </tr>\n",
              "    <tr>\n",
              "      <th>4</th>\n",
              "      <td>24</td>\n",
              "      <td>48</td>\n",
              "    </tr>\n",
              "  </tbody>\n",
              "</table>\n",
              "</div>"
            ],
            "text/plain": [
              "   온도  판매량\n",
              "0  20   40\n",
              "1  21   42\n",
              "2  22   44\n",
              "3  23   46\n",
              "4  24   48"
            ]
          },
          "metadata": {
            "tags": []
          },
          "execution_count": 2
        }
      ]
    },
    {
      "cell_type": "markdown",
      "metadata": {
        "id": "XNGu0Lq6gqj2",
        "colab_type": "text"
      },
      "source": [
        "### 1-2. 독립변수 & 종속변수 분리"
      ]
    },
    {
      "cell_type": "code",
      "metadata": {
        "id": "i5eCfPsAu1BQ",
        "colab_type": "code",
        "colab": {
          "base_uri": "https://localhost:8080/",
          "height": 36
        },
        "outputId": "5d6623a7-be17-4603-833f-b86ae6780d94"
      },
      "source": [
        "inde_var = lemonade[['온도']]\n",
        "de_var = lemonade[['판매량']]\n",
        "print(inde_var.shape, de_var.shape) # 독립&종속변수 개수 check - for 모델's 숫자 맞추기"
      ],
      "execution_count": 3,
      "outputs": [
        {
          "output_type": "stream",
          "text": [
            "(6, 1) (6, 1)\n"
          ],
          "name": "stdout"
        }
      ]
    },
    {
      "cell_type": "markdown",
      "metadata": {
        "id": "zeBjUx0tg2o_",
        "colab_type": "text"
      },
      "source": [
        "***\n",
        "### 2. 모델 구조 생성\n",
        "<b>핵심★</b> <br>\n",
        "가장 간단한 형태, Neural Net의 Neuron 1개 수준 <br>\n",
        "※ loss='mse' ? 다음 시간에~"
      ]
    },
    {
      "cell_type": "code",
      "metadata": {
        "id": "X-Q2Wp6qZFaR",
        "colab_type": "code",
        "colab": {}
      },
      "source": [
        "X = tf.keras.layers.Input(shape=[1]) # 숫자 1의 의미: 독립변수 개수([].shape print 했을 때 우측값)\n",
        "Y = tf.keras.layers.Dense(1)(X) # 숫자 1의 의미: 종속변수 개수\n",
        "model = tf.keras.models.Model(X, Y)\n",
        "model.compile(loss='mse') # loss: 모델의 학습 능력 척도 | mse: (실제값 & 예측값's 분산값) * 0.5 | 학습이 잘 될수록 0에 가까워짐 | 원하는 loss값으로 떨어질 때까지 epoch 더 하기"
      ],
      "execution_count": 4,
      "outputs": []
    },
    {
      "cell_type": "markdown",
      "metadata": {
        "id": "5eoblodThjI9",
        "colab_type": "text"
      },
      "source": [
        "### 3-1. 모델 학습(fit)"
      ]
    },
    {
      "cell_type": "code",
      "metadata": {
        "id": "gqpGZZ6YZMTB",
        "colab_type": "code",
        "colab": {
          "base_uri": "https://localhost:8080/",
          "height": 36
        },
        "outputId": "38349144-bce2-4676-e6b4-0a988448c14e"
      },
      "source": [
        "model.fit(inde_var, de_var, epochs=10000, verbose=0) # epoch: 전체 데이터 학습 반복 횟수, 클수록 좋음, verbose=0: 화면에 출력하지마라 명령"
      ],
      "execution_count": 5,
      "outputs": [
        {
          "output_type": "execute_result",
          "data": {
            "text/plain": [
              "<tensorflow.python.keras.callbacks.History at 0x7f3d3c883358>"
            ]
          },
          "metadata": {
            "tags": []
          },
          "execution_count": 5
        }
      ]
    },
    {
      "cell_type": "markdown",
      "metadata": {
        "id": "GWyBbyQ4hwrT",
        "colab_type": "text"
      },
      "source": [
        "###3-2. 모델의 loss값 check"
      ]
    },
    {
      "cell_type": "code",
      "metadata": {
        "id": "4jSoH8i9diud",
        "colab_type": "code",
        "colab": {
          "base_uri": "https://localhost:8080/",
          "height": 409
        },
        "outputId": "36bebbbf-5d8c-479a-ed59-e094bfe348ac"
      },
      "source": [
        "model.fit(inde_var, de_var, epochs=10)"
      ],
      "execution_count": 6,
      "outputs": [
        {
          "output_type": "stream",
          "text": [
            "Epoch 1/10\n",
            "1/1 [==============================] - 0s 4ms/step - loss: 2.7334e-04\n",
            "Epoch 2/10\n",
            "1/1 [==============================] - 0s 4ms/step - loss: 2.7319e-04\n",
            "Epoch 3/10\n",
            "1/1 [==============================] - 0s 3ms/step - loss: 2.7309e-04\n",
            "Epoch 4/10\n",
            "1/1 [==============================] - 0s 2ms/step - loss: 2.7297e-04\n",
            "Epoch 5/10\n",
            "1/1 [==============================] - 0s 1ms/step - loss: 2.7284e-04\n",
            "Epoch 6/10\n",
            "1/1 [==============================] - 0s 1ms/step - loss: 2.7274e-04\n",
            "Epoch 7/10\n",
            "1/1 [==============================] - 0s 2ms/step - loss: 2.7272e-04\n",
            "Epoch 8/10\n",
            "1/1 [==============================] - 0s 2ms/step - loss: 2.7266e-04\n",
            "Epoch 9/10\n",
            "1/1 [==============================] - 0s 2ms/step - loss: 2.7257e-04\n",
            "Epoch 10/10\n",
            "1/1 [==============================] - 0s 2ms/step - loss: 2.7254e-04\n"
          ],
          "name": "stdout"
        },
        {
          "output_type": "execute_result",
          "data": {
            "text/plain": [
              "<tensorflow.python.keras.callbacks.History at 0x7f3d3a10e710>"
            ]
          },
          "metadata": {
            "tags": []
          },
          "execution_count": 6
        }
      ]
    },
    {
      "cell_type": "markdown",
      "metadata": {
        "id": "T8HWzKX8h2-j",
        "colab_type": "text"
      },
      "source": [
        "***\n",
        "### 4-1. 모델 활용하여 예측"
      ]
    },
    {
      "cell_type": "code",
      "metadata": {
        "id": "1q_JDxkSZPaz",
        "colab_type": "code",
        "colab": {
          "base_uri": "https://localhost:8080/",
          "height": 129
        },
        "outputId": "4069073a-86fd-4086-a010-8c4678980925"
      },
      "source": [
        "print(model.predict(inde_var))"
      ],
      "execution_count": 7,
      "outputs": [
        {
          "output_type": "stream",
          "text": [
            "[[40.02821 ]\n",
            " [42.02196 ]\n",
            " [44.015717]\n",
            " [46.00947 ]\n",
            " [48.003223]\n",
            " [49.996975]]\n"
          ],
          "name": "stdout"
        }
      ]
    },
    {
      "cell_type": "markdown",
      "metadata": {
        "id": "Z_WvNIuxh8XN",
        "colab_type": "text"
      },
      "source": [
        "###4-2. 실제값과 예측값 비교"
      ]
    },
    {
      "cell_type": "code",
      "metadata": {
        "id": "sNaWHXy_d6ry",
        "colab_type": "code",
        "colab": {
          "base_uri": "https://localhost:8080/",
          "height": 233
        },
        "outputId": "7f508f78-b366-4117-b676-3dd816c4951c"
      },
      "source": [
        "de_var"
      ],
      "execution_count": 8,
      "outputs": [
        {
          "output_type": "execute_result",
          "data": {
            "text/html": [
              "<div>\n",
              "<style scoped>\n",
              "    .dataframe tbody tr th:only-of-type {\n",
              "        vertical-align: middle;\n",
              "    }\n",
              "\n",
              "    .dataframe tbody tr th {\n",
              "        vertical-align: top;\n",
              "    }\n",
              "\n",
              "    .dataframe thead th {\n",
              "        text-align: right;\n",
              "    }\n",
              "</style>\n",
              "<table border=\"1\" class=\"dataframe\">\n",
              "  <thead>\n",
              "    <tr style=\"text-align: right;\">\n",
              "      <th></th>\n",
              "      <th>판매량</th>\n",
              "    </tr>\n",
              "  </thead>\n",
              "  <tbody>\n",
              "    <tr>\n",
              "      <th>0</th>\n",
              "      <td>40</td>\n",
              "    </tr>\n",
              "    <tr>\n",
              "      <th>1</th>\n",
              "      <td>42</td>\n",
              "    </tr>\n",
              "    <tr>\n",
              "      <th>2</th>\n",
              "      <td>44</td>\n",
              "    </tr>\n",
              "    <tr>\n",
              "      <th>3</th>\n",
              "      <td>46</td>\n",
              "    </tr>\n",
              "    <tr>\n",
              "      <th>4</th>\n",
              "      <td>48</td>\n",
              "    </tr>\n",
              "    <tr>\n",
              "      <th>5</th>\n",
              "      <td>50</td>\n",
              "    </tr>\n",
              "  </tbody>\n",
              "</table>\n",
              "</div>"
            ],
            "text/plain": [
              "   판매량\n",
              "0   40\n",
              "1   42\n",
              "2   44\n",
              "3   46\n",
              "4   48\n",
              "5   50"
            ]
          },
          "metadata": {
            "tags": []
          },
          "execution_count": 8
        }
      ]
    },
    {
      "cell_type": "markdown",
      "metadata": {
        "id": "7NkUVrcIiHIa",
        "colab_type": "text"
      },
      "source": [
        "###4-3. 임의의 독립변수 대입하여 종속변수 예측"
      ]
    },
    {
      "cell_type": "code",
      "metadata": {
        "id": "aGpPRUoMeAHV",
        "colab_type": "code",
        "colab": {
          "base_uri": "https://localhost:8080/",
          "height": 36
        },
        "outputId": "784cf88f-34bf-4813-cbf5-7fead95510b6"
      },
      "source": [
        "model.predict([15])"
      ],
      "execution_count": 9,
      "outputs": [
        {
          "output_type": "execute_result",
          "data": {
            "text/plain": [
              "array([[30.059444]], dtype=float32)"
            ]
          },
          "metadata": {
            "tags": []
          },
          "execution_count": 9
        }
      ]
    }
  ]
}
